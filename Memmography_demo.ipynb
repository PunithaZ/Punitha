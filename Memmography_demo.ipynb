{
  "nbformat": 4,
  "nbformat_minor": 0,
  "metadata": {
    "colab": {
      "name": "Memmography_demo.ipynb",
      "provenance": []
    },
    "kernelspec": {
      "name": "python3",
      "display_name": "Python 3"
    },
    "language_info": {
      "name": "python"
    }
  },
  "cells": [
    {
      "cell_type": "markdown",
      "metadata": {
        "id": "d7240e7c"
      },
      "source": [
        "# Data Science on the Mammographic Masses Dataset\n",
        "The basic steps in a data science project\n",
        "1. Acquire data\n",
        "2. Exploratory Data analysis (EDA)\n",
        "3. Data Processing\n",
        "4. Predictive Analytics"
      ]
    },
    {
      "cell_type": "markdown",
      "metadata": {
        "id": "c5e9c640"
      },
      "source": [
        "### Import Packages\n",
        "Python, like most programming languages, has pre-made software methods.  These pre-made software methods are organized and combined by topic into packages.  The packages that we want are:\n",
        "- numpy (numerical python)\n",
        "- pandas (panel data aka tables)\n",
        "- sklearn (sci-kit learn for predictive analytics)\n",
        "- matplotlib (data plotting for matrix-like data)  \n",
        "\n",
        "We need to \"import\" these packages so that we can use their methods in our code."
      ]
    },
    {
      "cell_type": "code",
      "execution_count": null,
      "metadata": {
        "id": "45a30df1"
      },
      "outputs": [],
      "source": [
        "# import packages\n",
        "import numpy as np\n",
        "import pandas as pd\n",
        "import matplotlib.pyplot as plt\n",
        "%matplotlib inline"
      ]
    },
    {
      "cell_type": "code",
      "execution_count": null,
      "metadata": {
        "id": "20979e6a"
      },
      "outputs": [],
      "source": [
        "%matplotlib inline"
      ]
    },
    {
      "cell_type": "markdown",
      "metadata": {
        "id": "34e6edfd"
      },
      "source": [
        "## 1. Acquire data\n",
        "We will get our data from the University of California, Irvine Machine Learning Repository.  Our dataset was used to determine the effectivity of radiological evaluations of breast cancer diagnoses in women who have breast tumors."
      ]
    },
    {
      "cell_type": "code",
      "execution_count": null,
      "metadata": {
        "id": "e0a3eae8"
      },
      "outputs": [],
      "source": [
        "# The url for the data\n",
        "url = \"https://urldefense.com/v3/__http://archive.ics.uci.edu/ml/machine-learning-databases/mammographic-masses/mammographic_masses.data*5C*22*5Cn*22__;JSUlJQ!!AoaiBx6H!2todWV844iJp5ujofriDj4pYSetE9-Ga5ojky-Z5l8LUTCVarXiwjPLDn03jC6GpkQkr_Lco8iAvS3YvqiUBcPo$  ,
        "\n",
        "# Download the data\n",
        "Mamm = pd.read_csv(url, header=None)\n",
        "\n",
        "# Replace the default column names (0, 1, 2, 3, 4, 5) with meaningful names\n",
        "Mamm.columns = [\"BI-RADS\", \"Age\", \"Shape\", \"Margin\", \"Density\", \"Severity\"]"
      ]
    },
    {
      "cell_type": "markdown",
      "metadata": {
        "id": "db7c3d66"
      },
      "source": [
        "## 2. Exploratory Data analysis (EDA)\n",
        "The goal of EDA is to understand the data enough for meaningful data processing.  Some common EDA steps are:  \n",
        "- Determine size of data, like number of tables, rows, columns.  Do we need special big data tools, like spark?  \n",
        "- Present the first few rows and columns for each table.  Are there obvious patterns or issues in the data?  \n",
        "- Determine the data types of the columns. Do the data types conform to expected use?  \n",
        "- Determine the unique values in a column. Are the values conform expected?  \n",
        "- Determine the distribution of values in a column.  Is the distribution expected?\n",
        "- Variables and relationships that hold between them \n",
        "- Identifying which variables are important for our problem \n"
      ]
    },
    {
      "cell_type": "code",
      "execution_count": null,
      "metadata": {
        "colab": {
          "base_uri": "https://urldefense.com/v3/__https://localhost:8080/__;!!AoaiBx6H!2todWV844iJp5ujofriDj4pYSetE9-Ga5ojky-Z5l8LUTCVarXiwjPLDn03jC6GpkQkr_Lco8iAvS3YvyEDd1c8$  "
        },
        "id": "2210c693",
        "outputId": "8941ca30-bce8-4e38-e0f3-0673f8df6f43"
      },
      "outputs": [
        {
          "output_type": "stream",
          "name": "stdout",
          "text": [
            " (number of rows, number of columns): (961, 6)\n"
          ]
        }
      ],
      "source": [
        "# Determine size of data\n",
        "print(' (number of rows, number of columns):', Mamm.shape)"
      ]
    },
    {
      "cell_type": "code",
      "execution_count": null,
      "metadata": {
        "colab": {
          "base_uri": "https://urldefense.com/v3/__https://localhost:8080/__;!!AoaiBx6H!2todWV844iJp5ujofriDj4pYSetE9-Ga5ojky-Z5l8LUTCVarXiwjPLDn03jC6GpkQkr_Lco8iAvS3YvyEDd1c8$  ",
          "height": 206
        },
        "id": "d1ac05d7",
        "outputId": "6133e534-745f-4d22-c963-44887ca97602"
      },
      "outputs": [
        {
          "output_type": "execute_result",
          "data": {
            "text/plain": [
              "  BI-RADS Age Shape Margin Density  Severity\n",
              "0       5  67     3      5       3         1\n",
              "1       4  43     1      1       ?         1\n",
              "2       5  58     4      5       3         1\n",
              "3       4  28     1      1       3         0\n",
              "4       5  74     1      5       ?         1"
            ],
            "text/html": [
              "\n",
              "  <div id=\"df-24e65fa4-8ea4-4eae-b237-b4b392c1a9d3\">\n",
              "    <div class=\"colab-df-container\">\n",
              "      <div>\n",
              "<style scoped>\n",
              "    .dataframe tbody tr th:only-of-type {\n",
              "        vertical-align: middle;\n",
              "    }\n",
              "\n",
              "    .dataframe tbody tr th {\n",
              "        vertical-align: top;\n",
              "    }\n",
              "\n",
              "    .dataframe thead th {\n",
              "        text-align: right;\n",
              "    }\n",
              "</style>\n",
              "<table border=\"1\" class=\"dataframe\">\n",
              "  <thead>\n",
              "    <tr style=\"text-align: right;\">\n",
              "      <th></th>\n",
              "      <th>BI-RADS</th>\n",
              "      <th>Age</th>\n",
              "      <th>Shape</th>\n",
              "      <th>Margin</th>\n",
              "      <th>Density</th>\n",
              "      <th>Severity</th>\n",
              "    </tr>\n",
              "  </thead>\n",
              "  <tbody>\n",
              "    <tr>\n",
              "      <th>0</th>\n",
              "      <td>5</td>\n",
              "      <td>67</td>\n",
              "      <td>3</td>\n",
              "      <td>5</td>\n",
              "      <td>3</td>\n",
              "      <td>1</td>\n",
              "    </tr>\n",
              "    <tr>\n",
              "      <th>1</th>\n",
              "      <td>4</td>\n",
              "      <td>43</td>\n",
              "      <td>1</td>\n",
              "      <td>1</td>\n",
              "      <td>?</td>\n",
              "      <td>1</td>\n",
              "    </tr>\n",
              "    <tr>\n",
              "      <th>2</th>\n",
              "      <td>5</td>\n",
              "      <td>58</td>\n",
              "      <td>4</td>\n",
              "      <td>5</td>\n",
              "      <td>3</td>\n",
              "      <td>1</td>\n",
              "    </tr>\n",
              "    <tr>\n",
              "      <th>3</th>\n",
              "      <td>4</td>\n",
              "      <td>28</td>\n",
              "      <td>1</td>\n",
              "      <td>1</td>\n",
              "      <td>3</td>\n",
              "      <td>0</td>\n",
              "    </tr>\n",
              "    <tr>\n",
              "      <th>4</th>\n",
              "      <td>5</td>\n",
              "      <td>74</td>\n",
              "      <td>1</td>\n",
              "      <td>5</td>\n",
              "      <td>?</td>\n",
              "      <td>1</td>\n",
              "    </tr>\n",
              "  </tbody>\n",
              "</table>\n",
              "</div>\n",
              "      <button class=\"colab-df-convert\" onclick=\"convertToInteractive('df-24e65fa4-8ea4-4eae-b237-b4b392c1a9d3')\"\n",
              "              title=\"Convert this dataframe to an interactive table.\"\n",
              "              style=\"display:none;\">\n",
              "        \n",
              "  <svg xmlns=\"https://urldefense.com/v3/__http://www.w3.org/2000/svg*5C__;JQ!!AoaiBx6H!2todWV844iJp5ujofriDj4pYSetE9-Ga5ojky-Z5l8LUTCVarXiwjPLDn03jC6GpkQkr_Lco8iAvS3YvFI7W-44$  " height=\"24px\"viewBox=\"0 0 24 24\"\n",
              "       width=\"24px\">\n",
              "    <path d=\"M0 0h24v24H0V0z\" fill=\"none\"/>\n",
              "    <path d=\"M18.56 5.44l.94 2.06.94-2.06 2.06-.94-2.06-.94-.94-2.06-.94 2.06-2.06.94zm-11 1L8.5 8.5l.94-2.06 2.06-.94-2.06-.94L8.5 2.5l-.94 2.06-2.06.94zm10 10l.94 2.06.94-2.06 2.06-.94-2.06-.94-.94-2.06-.94 2.06-2.06.94z\"/><path d=\"M17.41 7.96l-1.37-1.37c-.4-.4-.92-.59-1.43-.59-.52 0-1.04.2-1.43.59L10.3 9.45l-7.72 7.72c-.78.78-.78 2.05 0 2.83L4 21.41c.39.39.9.59 1.41.59.51 0 1.02-.2 1.41-.59l7.78-7.78 2.81-2.81c.8-.78.8-2.07 0-2.86zM5.41 20L4 18.59l7.72-7.72 1.47 1.35L5.41 20z\"/>\n",
              "  </svg>\n",
              "      </button>\n",
              "      \n",
              "  <style>\n",
              "    .colab-df-container {\n",
              "      display:flex;\n",
              "      flex-wrap:wrap;\n",
              "      gap: 12px;\n",
              "    }\n",
              "\n",
              "    .colab-df-convert {\n",
              "      background-color: #E8F0FE;\n",
              "      border: none;\n",
              "      border-radius: 50%;\n",
              "      cursor: pointer;\n",
              "      display: none;\n",
              "      fill: #1967D2;\n",
              "      height: 32px;\n",
              "      padding: 0 0 0 0;\n",
              "      width: 32px;\n",
              "    }\n",
              "\n",
              "    .colab-df-convert:hover {\n",
              "      background-color: #E2EBFA;\n",
              "      box-shadow: 0px 1px 2px rgba(60, 64, 67, 0.3), 0px 1px 3px 1px rgba(60, 64, 67, 0.15);\n",
              "      fill: #174EA6;\n",
              "    }\n",
              "\n",
              "    [theme=dark] .colab-df-convert {\n",
              "      background-color: #3B4455;\n",
              "      fill: #D2E3FC;\n",
              "    }\n",
              "\n",
              "    [theme=dark] .colab-df-convert:hover {\n",
              "      background-color: #434B5C;\n",
              "      box-shadow: 0px 1px 3px 1px rgba(0, 0, 0, 0.15);\n",
              "      filter: drop-shadow(0px 1px 2px rgba(0, 0, 0, 0.3));\n",
              "      fill: #FFFFFF;\n",
              "    }\n",
              "  </style>\n",
              "\n",
              "      <script>\n",
              "        const buttonEl =\n",
              "          document.querySelector('#df-24e65fa4-8ea4-4eae-b237-b4b392c1a9d3 button.colab-df-convert');\n",
              "        buttonEl.style.display =\n",
              "          google.colab.kernel.accessAllowed ? 'block' : 'none';\n",
              "\n",
              "        async function convertToInteractive(key) {\n",
              "          const element = document.querySelector('#df-24e65fa4-8ea4-4eae-b237-b4b392c1a9d3');\n",
              "          const dataTable =\n",
              "            await google.colab.kernel.invokeFunction('convertToInteractive',\n",
              "                                                     [key], {});\n",
              "          if (!dataTable) return;\n",
              "\n",
              "          const docLinkHtml = 'Like what you see? Visit the ' +\n",
              "            '<a target=\"_blank\" href=https://urldefense.com/v3/__https://colab.research.google.com/notebooks/data_table.ipynb__;!!AoaiBx6H!2todWV844iJp5ujofriDj4pYSetE9-Ga5ojky-Z5l8LUTCVarXiwjPLDn03jC6GpkQkr_Lco8iAvS3YvJJZYFFA$  >data table notebook</a>'\n",
              "            + ' to learn more about interactive tables.';\n",
              "          element.innerHTML = '';\n",
              "          dataTable['output_type'] = 'display_data';\n",
              "          await google.colab.output.renderOutput(dataTable, element);\n",
              "          const docLink = document.createElement('div');\n",
              "          docLink.innerHTML = docLinkHtml;\n",
              "          element.appendChild(docLink);\n",
              "        }\n",
              "      </script>\n",
              "    </div>\n",
              "  </div>\n",
              "  "
            ]
          },
          "metadata": {},
          "execution_count": 90
        }
      ],
      "source": [
        "# Present the first few rows\n",
        "Mamm.head()"
      ]
    },
    {
      "cell_type": "markdown",
      "metadata": {
        "id": "b3b5fdcb"
      },
      "source": [
        "### Determine the data types for each table\n",
        "Are the data types correct?\n",
        "Are numeric/ordinal values int or float?\n",
        "Are categorical values object/string?\n",
        "\n",
        "The following columns should be numeric or ordinal:\n",
        "- BI-RADS\n",
        "- Age\n",
        "- Density\n",
        "- Severity\n",
        "\n",
        "The following columns are category columns:\n",
        "- Shape\n",
        "- Margin"
      ]
    },
    {
      "cell_type": "code",
      "execution_count": null,
      "metadata": {
        "colab": {
          "base_uri": "https://urldefense.com/v3/__https://localhost:8080/__;!!AoaiBx6H!2todWV844iJp5ujofriDj4pYSetE9-Ga5ojky-Z5l8LUTCVarXiwjPLDn03jC6GpkQkr_Lco8iAvS3YvyEDd1c8$  "
        },
        "id": "ec4ac822",
        "outputId": "09775964-0386-49de-f44f-b5b5df2a3e10"
      },
      "outputs": [
        {
          "output_type": "stream",
          "name": "stdout",
          "text": [
            "BI-RADS     object\n",
            "Age         object\n",
            "Shape       object\n",
            "Margin      object\n",
            "Density     object\n",
            "Severity     int64\n",
            "dtype: object\n"
          ]
        }
      ],
      "source": [
        "# Check data types of columns\n",
        "print(Mamm.dtypes)"
      ]
    },
    {
      "cell_type": "code",
      "source": [
        "# Checking the missing values\n",
        "Mamm.isnull().sum()"
      ],
      "metadata": {
        "colab": {
          "base_uri": "https://urldefense.com/v3/__https://localhost:8080/__;!!AoaiBx6H!2todWV844iJp5ujofriDj4pYSetE9-Ga5ojky-Z5l8LUTCVarXiwjPLDn03jC6GpkQkr_Lco8iAvS3YvyEDd1c8$  "
        },
        "id": "tF9K7SjP5aRZ",
        "outputId": "64ca949a-4d4a-4c5b-917f-dafeafa9fc34"
      },
      "execution_count": null,
      "outputs": [
        {
          "output_type": "execute_result",
          "data": {
            "text/plain": [
              "BI-RADS     0\n",
              "Age         0\n",
              "Shape       0\n",
              "Margin      0\n",
              "Density     0\n",
              "Severity    0\n",
              "dtype: int64"
            ]
          },
          "metadata": {},
          "execution_count": 92
        }
      ]
    },
    {
      "cell_type": "markdown",
      "metadata": {
        "id": "a26f3a2c"
      },
      "source": [
        "### Determine the unique values in each column.  For brevity we will only look at the BI-RADS and Severity columns\n",
        "Are the values expected?  \n",
        "Which values are out-of-bounds?"
      ]
    },
    {
      "cell_type": "code",
      "execution_count": null,
      "metadata": {
        "colab": {
          "base_uri": "https://urldefense.com/v3/__https://localhost:8080/__;!!AoaiBx6H!2todWV844iJp5ujofriDj4pYSetE9-Ga5ojky-Z5l8LUTCVarXiwjPLDn03jC6GpkQkr_Lco8iAvS3YvyEDd1c8$  "
        },
        "id": "74c1a1f7",
        "outputId": "d4f68037-691f-419b-849a-a622eb5778b4"
      },
      "outputs": [
        {
          "output_type": "stream",
          "name": "stdout",
          "text": [
            " The unique values in BI-RADS: ['5' '4' '3' '?' '2' '55' '0' '6']\n",
            " The unique values in Severity: [1 0]\n"
          ]
        }
      ],
      "source": [
        "# Check distinct values \n",
        "# For simplicity we will only look at BI-RADS and Severity\n",
        "print(' The unique values in BI-RADS:', Mamm.loc[:,\"BI-RADS\"].unique())\n",
        "print(' The unique values in Severity:', Mamm.loc[:,\"Severity\"].unique())"
      ]
    },
    {
      "cell_type": "markdown",
      "metadata": {
        "id": "c37ae763"
      },
      "source": [
        "### Distributions\n",
        "Before we can look at histograms of data and finish EDA, we have to do some data processing "
      ]
    },
    {
      "cell_type": "markdown",
      "metadata": {
        "id": "738bba83"
      },
      "source": [
        "## 3. Data Processing\n",
        "- Replace unusable entries with null/nan  \n",
        "- Change types of data.  Make numeric data numeric\n",
        "- Correct unexpected values\n",
        "- decode category data  \n",
        "- One-hot encode category data  \n",
        "- Remove outliers in numeric data  \n",
        "- Consolidate categories in category data  "
      ]
    },
    {
      "cell_type": "code",
      "execution_count": null,
      "metadata": {
        "id": "056de095"
      },
      "outputs": [],
      "source": [
        "# Coerce numeric data to numeric types\n",
        "# Introduce nans/nulls for the non-numeric values in the numeric columns\n",
        "Mamm.loc[:, \"BI-RADS\"] = pd.to_numeric(Mamm.loc[:, \"BI-RADS\"], errors='coerce')\n",
        "Mamm.loc[:, \"Age\"] = pd.to_numeric(Mamm.loc[:, \"Age\"], errors='coerce')\n",
        "Mamm.loc[:, \"Density\"] = pd.to_numeric(Mamm.loc[:, \"Density\"], errors='coerce')"
      ]
    },
    {
      "cell_type": "code",
      "execution_count": null,
      "metadata": {
        "colab": {
          "base_uri": "https://urldefense.com/v3/__https://localhost:8080/__;!!AoaiBx6H!2todWV844iJp5ujofriDj4pYSetE9-Ga5ojky-Z5l8LUTCVarXiwjPLDn03jC6GpkQkr_Lco8iAvS3YvyEDd1c8$  "
        },
        "id": "f7cc12eb",
        "outputId": "ef409298-f571-45a7-e8c4-18fe837ae6d1"
      },
      "outputs": [
        {
          "output_type": "stream",
          "name": "stdout",
          "text": [
            "BI-RADS     float64\n",
            "Age         float64\n",
            "Shape        object\n",
            "Margin       object\n",
            "Density     float64\n",
            "Severity      int64\n",
            "dtype: object\n"
          ]
        }
      ],
      "source": [
        "# Check the data types of the columns in the data frame\n",
        "print(Mamm.dtypes)\n",
        "\n"
      ]
    },
    {
      "cell_type": "code",
      "source": [
        "# Check distinct values of BI-RADS\n",
        "print(' BI-RADS unique values: ', Mamm.loc[:,\"BI-RADS\"].unique())"
      ],
      "metadata": {
        "colab": {
          "base_uri": "https://urldefense.com/v3/__https://localhost:8080/__;!!AoaiBx6H!2todWV844iJp5ujofriDj4pYSetE9-Ga5ojky-Z5l8LUTCVarXiwjPLDn03jC6GpkQkr_Lco8iAvS3YvyEDd1c8$  "
        },
        "id": "WkTh1S-C0dmB",
        "outputId": "1767908a-48d6-4a7b-cba2-4052568adb02"
      },
      "execution_count": null,
      "outputs": [
        {
          "output_type": "stream",
          "name": "stdout",
          "text": [
            " BI-RADS unique values:  [ 5.  4.  3. nan  2. 55.  0.  6.]\n"
          ]
        }
      ]
    },
    {
      "cell_type": "code",
      "execution_count": null,
      "metadata": {
        "colab": {
          "base_uri": "https://urldefense.com/v3/__https://localhost:8080/__;!!AoaiBx6H!2todWV844iJp5ujofriDj4pYSetE9-Ga5ojky-Z5l8LUTCVarXiwjPLDn03jC6GpkQkr_Lco8iAvS3YvyEDd1c8$  "
        },
        "id": "cd5a1658",
        "outputId": "0b5f4ea4-d3dd-4369-abf7-ac290be6ecbd"
      },
      "outputs": [
        {
          "output_type": "stream",
          "name": "stdout",
          "text": [
            " BI-RADS unique values:  [ 5.  4.  3. nan  2.  1.]\n"
          ]
        }
      ],
      "source": [
        "# Replace outliers:  Correct unexpected values in BI-RADS\n",
        "TooHigh = Mamm.loc[:, \"BI-RADS\"] > 5\n",
        "Mamm.loc[TooHigh, \"BI-RADS\"] = 5\n",
        "\n",
        "TooLow = Mamm.loc[:, \"BI-RADS\"] < 1\n",
        "Mamm.loc[TooLow, \"BI-RADS\"] = 1\n",
        "\n",
        "# Check distinct values of BI-RADS\n",
        "print(' BI-RADS unique values: ', Mamm.loc[:,\"BI-RADS\"].unique())"
      ]
    },
    {
      "cell_type": "code",
      "execution_count": null,
      "metadata": {
        "colab": {
          "base_uri": "https://urldefense.com/v3/__https://localhost:8080/__;!!AoaiBx6H!2todWV844iJp5ujofriDj4pYSetE9-Ga5ojky-Z5l8LUTCVarXiwjPLDn03jC6GpkQkr_Lco8iAvS3YvyEDd1c8$  "
        },
        "id": "73b403cf",
        "outputId": "536a8d9e-fd00-4e64-d491-fa991aef5422"
      },
      "outputs": [
        {
          "output_type": "stream",
          "name": "stdout",
          "text": [
            "The dataframe size has not changed, yet. (number of rows, number of columns): (961, 6)\n",
            "The number of missing values in each column:\n",
            "BI-RADS      2\n",
            "Age          5\n",
            "Shape       31\n",
            "Margin      48\n",
            "Density     76\n",
            "Severity     0\n",
            "dtype: int64\n",
            "The dataframe size has changed. (number of rows, number of columns): (830, 6)\n"
          ]
        }
      ],
      "source": [
        "# Replace \"?\" in category columns with null\n",
        "Mamm = Mamm.replace(to_replace=\"?\", value=float(\"NaN\"))\n",
        "print('The dataframe size has not changed, yet. (number of rows, number of columns):', Mamm.shape)\n",
        "print('The number of missing values in each column:')\n",
        "print(Mamm.isnull().sum())\n",
        "\n",
        "\n",
        "# Remove rows that contain one or more NaN\n",
        "Mamm = Mamm.dropna(axis=0)\n",
        "\n",
        "# Check the number of rows and columns\n",
        "print('The dataframe size has changed. (number of rows, number of columns):', Mamm.shape)"
      ]
    },
    {
      "cell_type": "code",
      "source": [
        "# Check distinct values of BI-RADS\n",
        "print(' BI-RADS unique values: ', Mamm.loc[:,\"BI-RADS\"].unique())"
      ],
      "metadata": {
        "colab": {
          "base_uri": "https://urldefense.com/v3/__https://localhost:8080/__;!!AoaiBx6H!2todWV844iJp5ujofriDj4pYSetE9-Ga5ojky-Z5l8LUTCVarXiwjPLDn03jC6GpkQkr_Lco8iAvS3YvyEDd1c8$  "
        },
        "id": "sEA3DUgN1Vgy",
        "outputId": "f67a3ea2-fdab-4c36-cb93-59f00b698056"
      },
      "execution_count": null,
      "outputs": [
        {
          "output_type": "stream",
          "name": "stdout",
          "text": [
            " BI-RADS unique values:  [5. 4. 3. 2. 1.]\n"
          ]
        }
      ]
    },
    {
      "cell_type": "code",
      "execution_count": null,
      "metadata": {
        "colab": {
          "base_uri": "https://urldefense.com/v3/__https://localhost:8080/__;!!AoaiBx6H!2todWV844iJp5ujofriDj4pYSetE9-Ga5ojky-Z5l8LUTCVarXiwjPLDn03jC6GpkQkr_Lco8iAvS3YvyEDd1c8$  ",
          "height": 265
        },
        "id": "67eb93ca",
        "outputId": "c30c869a-8b64-46ad-e652-15e2daae007a"
      },
      "outputs": [
        {
          "output_type": "display_data",
          "data": {
            "text/plain": [
              "<Figure size 432x288 with 1 Axes>"
            ],
            "image/png": "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\n"
          },
          "metadata": {
            "needs_background": "light"
          }
        }
      ],
      "source": [
        "# Now, we can complete another EDA task.  We can look at the distributions\n",
        "# For brevity we are only looking at Age\n",
        "plt.hist(Mamm[\"Age\"])\n",
        "plt.show()"
      ]
    },
    {
      "cell_type": "code",
      "execution_count": null,
      "metadata": {
        "colab": {
          "base_uri": "https://urldefense.com/v3/__https://localhost:8080/__;!!AoaiBx6H!2todWV844iJp5ujofriDj4pYSetE9-Ga5ojky-Z5l8LUTCVarXiwjPLDn03jC6GpkQkr_Lco8iAvS3YvyEDd1c8$  ",
          "height": 206
        },
        "id": "6e7d60ce",
        "outputId": "0ba67a00-ec1b-4d82-e41e-bc43b829fe1b"
      },
      "outputs": [
        {
          "output_type": "execute_result",
          "data": {
            "text/plain": [
              "    BI-RADS   Age      Shape         Margin  Density  Severity\n",
              "0       5.0  67.0    lobular     spiculated      3.0         1\n",
              "2       5.0  58.0  irregular     spiculated      3.0         1\n",
              "3       4.0  28.0       oval  circumscribed      3.0         0\n",
              "8       5.0  57.0       oval     spiculated      3.0         1\n",
              "10      5.0  76.0       oval    ill-defined      3.0         1"
            ],
            "text/html": [
              "\n",
              "  <div id=\"df-9129e16b-e6aa-4bf5-8312-679b7c818ea4\">\n",
              "    <div class=\"colab-df-container\">\n",
              "      <div>\n",
              "<style scoped>\n",
              "    .dataframe tbody tr th:only-of-type {\n",
              "        vertical-align: middle;\n",
              "    }\n",
              "\n",
              "    .dataframe tbody tr th {\n",
              "        vertical-align: top;\n",
              "    }\n",
              "\n",
              "    .dataframe thead th {\n",
              "        text-align: right;\n",
              "    }\n",
              "</style>\n",
              "<table border=\"1\" class=\"dataframe\">\n",
              "  <thead>\n",
              "    <tr style=\"text-align: right;\">\n",
              "      <th></th>\n",
              "      <th>BI-RADS</th>\n",
              "      <th>Age</th>\n",
              "      <th>Shape</th>\n",
              "      <th>Margin</th>\n",
              "      <th>Density</th>\n",
              "      <th>Severity</th>\n",
              "    </tr>\n",
              "  </thead>\n",
              "  <tbody>\n",
              "    <tr>\n",
              "      <th>0</th>\n",
              "      <td>5.0</td>\n",
              "      <td>67.0</td>\n",
              "      <td>lobular</td>\n",
              "      <td>spiculated</td>\n",
              "      <td>3.0</td>\n",
              "      <td>1</td>\n",
              "    </tr>\n",
              "    <tr>\n",
              "      <th>2</th>\n",
              "      <td>5.0</td>\n",
              "      <td>58.0</td>\n",
              "      <td>irregular</td>\n",
              "      <td>spiculated</td>\n",
              "      <td>3.0</td>\n",
              "      <td>1</td>\n",
              "    </tr>\n",
              "    <tr>\n",
              "      <th>3</th>\n",
              "      <td>4.0</td>\n",
              "      <td>28.0</td>\n",
              "      <td>oval</td>\n",
              "      <td>circumscribed</td>\n",
              "      <td>3.0</td>\n",
              "      <td>0</td>\n",
              "    </tr>\n",
              "    <tr>\n",
              "      <th>8</th>\n",
              "      <td>5.0</td>\n",
              "      <td>57.0</td>\n",
              "      <td>oval</td>\n",
              "      <td>spiculated</td>\n",
              "      <td>3.0</td>\n",
              "      <td>1</td>\n",
              "    </tr>\n",
              "    <tr>\n",
              "      <th>10</th>\n",
              "      <td>5.0</td>\n",
              "      <td>76.0</td>\n",
              "      <td>oval</td>\n",
              "      <td>ill-defined</td>\n",
              "      <td>3.0</td>\n",
              "      <td>1</td>\n",
              "    </tr>\n",
              "  </tbody>\n",
              "</table>\n",
              "</div>\n",
              "      <button class=\"colab-df-convert\" onclick=\"convertToInteractive('df-9129e16b-e6aa-4bf5-8312-679b7c818ea4')\"\n",
              "              title=\"Convert this dataframe to an interactive table.\"\n",
              "              style=\"display:none;\">\n",
              "        \n",
              "  <svg xmlns=\"https://urldefense.com/v3/__http://www.w3.org/2000/svg*5C__;JQ!!AoaiBx6H!2todWV844iJp5ujofriDj4pYSetE9-Ga5ojky-Z5l8LUTCVarXiwjPLDn03jC6GpkQkr_Lco8iAvS3YvFI7W-44$  " height=\"24px\"viewBox=\"0 0 24 24\"\n",
              "       width=\"24px\">\n",
              "    <path d=\"M0 0h24v24H0V0z\" fill=\"none\"/>\n",
              "    <path d=\"M18.56 5.44l.94 2.06.94-2.06 2.06-.94-2.06-.94-.94-2.06-.94 2.06-2.06.94zm-11 1L8.5 8.5l.94-2.06 2.06-.94-2.06-.94L8.5 2.5l-.94 2.06-2.06.94zm10 10l.94 2.06.94-2.06 2.06-.94-2.06-.94-.94-2.06-.94 2.06-2.06.94z\"/><path d=\"M17.41 7.96l-1.37-1.37c-.4-.4-.92-.59-1.43-.59-.52 0-1.04.2-1.43.59L10.3 9.45l-7.72 7.72c-.78.78-.78 2.05 0 2.83L4 21.41c.39.39.9.59 1.41.59.51 0 1.02-.2 1.41-.59l7.78-7.78 2.81-2.81c.8-.78.8-2.07 0-2.86zM5.41 20L4 18.59l7.72-7.72 1.47 1.35L5.41 20z\"/>\n",
              "  </svg>\n",
              "      </button>\n",
              "      \n",
              "  <style>\n",
              "    .colab-df-container {\n",
              "      display:flex;\n",
              "      flex-wrap:wrap;\n",
              "      gap: 12px;\n",
              "    }\n",
              "\n",
              "    .colab-df-convert {\n",
              "      background-color: #E8F0FE;\n",
              "      border: none;\n",
              "      border-radius: 50%;\n",
              "      cursor: pointer;\n",
              "      display: none;\n",
              "      fill: #1967D2;\n",
              "      height: 32px;\n",
              "      padding: 0 0 0 0;\n",
              "      width: 32px;\n",
              "    }\n",
              "\n",
              "    .colab-df-convert:hover {\n",
              "      background-color: #E2EBFA;\n",
              "      box-shadow: 0px 1px 2px rgba(60, 64, 67, 0.3), 0px 1px 3px 1px rgba(60, 64, 67, 0.15);\n",
              "      fill: #174EA6;\n",
              "    }\n",
              "\n",
              "    [theme=dark] .colab-df-convert {\n",
              "      background-color: #3B4455;\n",
              "      fill: #D2E3FC;\n",
              "    }\n",
              "\n",
              "    [theme=dark] .colab-df-convert:hover {\n",
              "      background-color: #434B5C;\n",
              "      box-shadow: 0px 1px 3px 1px rgba(0, 0, 0, 0.15);\n",
              "      filter: drop-shadow(0px 1px 2px rgba(0, 0, 0, 0.3));\n",
              "      fill: #FFFFFF;\n",
              "    }\n",
              "  </style>\n",
              "\n",
              "      <script>\n",
              "        const buttonEl =\n",
              "          document.querySelector('#df-9129e16b-e6aa-4bf5-8312-679b7c818ea4 button.colab-df-convert');\n",
              "        buttonEl.style.display =\n",
              "          google.colab.kernel.accessAllowed ? 'block' : 'none';\n",
              "\n",
              "        async function convertToInteractive(key) {\n",
              "          const element = document.querySelector('#df-9129e16b-e6aa-4bf5-8312-679b7c818ea4');\n",
              "          const dataTable =\n",
              "            await google.colab.kernel.invokeFunction('convertToInteractive',\n",
              "                                                     [key], {});\n",
              "          if (!dataTable) return;\n",
              "\n",
              "          const docLinkHtml = 'Like what you see? Visit the ' +\n",
              "            '<a target=\"_blank\" href=https://urldefense.com/v3/__https://colab.research.google.com/notebooks/data_table.ipynb__;!!AoaiBx6H!2todWV844iJp5ujofriDj4pYSetE9-Ga5ojky-Z5l8LUTCVarXiwjPLDn03jC6GpkQkr_Lco8iAvS3YvJJZYFFA$  >data table notebook</a>'\n",
              "            + ' to learn more about interactive tables.';\n",
              "          element.innerHTML = '';\n",
              "          dataTable['output_type'] = 'display_data';\n",
              "          await google.colab.output.renderOutput(dataTable, element);\n",
              "          const docLink = document.createElement('div');\n",
              "          docLink.innerHTML = docLinkHtml;\n",
              "          element.appendChild(docLink);\n",
              "        }\n",
              "      </script>\n",
              "    </div>\n",
              "  </div>\n",
              "  "
            ]
          },
          "metadata": {},
          "execution_count": 101
        }
      ],
      "source": [
        "# Consolidate and decode category columns\n",
        "# The category columns are decoded and categories are consolidated\n",
        "Mamm.loc[ Mamm.loc[:, \"Shape\"] == \"1\", \"Shape\"] = \"oval\"\n",
        "Mamm.loc[Mamm.loc[:, \"Shape\"] == \"2\", \"Shape\"] = \"oval\"\n",
        "Mamm.loc[Mamm.loc[:, \"Shape\"] == \"3\", \"Shape\"] = \"lobular\"\n",
        "Mamm.loc[Mamm.loc[:, \"Shape\"] == \"4\", \"Shape\"] = \"irregular\"\n",
        "Mamm.loc[Mamm.loc[:, \"Margin\"] == \"1\", \"Margin\"] = \"circumscribed\"\n",
        "Mamm.loc[Mamm.loc[:, \"Margin\"] == \"2\", \"Margin\"] = \"ill-defined\"\n",
        "Mamm.loc[Mamm.loc[:, \"Margin\"] == \"3\", \"Margin\"] = \"ill-defined\"\n",
        "Mamm.loc[Mamm.loc[:, \"Margin\"] == \"4\", \"Margin\"] = \"ill-defined\"\n",
        "Mamm.loc[Mamm.loc[:, \"Margin\"] == \"5\", \"Margin\"] = \"spiculated\"\n",
        "\n",
        "# Present the first few rows\n",
        "Mamm.head()"
      ]
    }
  ]
}